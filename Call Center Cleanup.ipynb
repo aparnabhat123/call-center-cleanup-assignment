{
 "cells": [
  {
   "cell_type": "markdown",
   "id": "458bdb75",
   "metadata": {},
   "source": [
    "# Call Center Cleanup\n",
    "\n",
    "For this assignment, we will be working with call center data. You can start working on the assignment after the first lesson on Exploratory Data Analysis. Make sure to read the whole assignment before starting anything! As you code along in the Jupyter notebook, you are asked to make note of the results of your analysis. Do so by clicking on the results box and adding your notes beside each question.\n",
    "\n",
    "## Business Issue and Understanding\n",
    "\n",
    "You are working for a company that has two call centers: the North Call Center and the South Call Center. The company is looking to possibly hire five additional reps to enhance customer experience. Your task is to explore how efficient the current reps are in each branch to determine which branch would benefit from additional assistance.\n",
    "\n",
    "### How the Call Center Works\n",
    "\n",
    "Call center representatives are assigned queues. When calls are assigned to a queue, the call is assigned to the next person in line in the queue. After a call is assigned to a representative, the amount of time between assignment and the call starting is divided into busy minutes and not ready minutes. If the call is incoming and a customer is waiting on the phone for a rep, the time is split into three categories: busy minutes, not ready minutes, and incoming call wait time. Once the rep has the customer on the phone, there might be during call wait time, where the call is put on hold while the rep gets an answer for the customer.\n",
    "\n",
    "### Notes about the Dataset\n",
    "\n",
    "If you haven't worked in a call center before, these notes might help you throughout your analysis.\n",
    "\n",
    "* The call purpose is tagged for each call.\n",
    "* The time of the call is tagged in 1 hour blocks starting at 9:00 AM and ending at 5:00 PM.\n",
    "* Calls are tagged as incoming or outgoing.\n",
    "* Reps are assigned to queues. When the reps are working, they take calls in the order of their queue.\n",
    "* A call that is dropped due to technical error or missed by the center because they have reached maximum capacity is a lost call.\n",
    "* An abandoned call is when the customer hangs up because they have been waiting for too long.\n",
    "* Busy Minutes: the amount of time after a call comes in or needs to go out where the assigned rep is not available because they are busy with other customers.\n",
    "* Not Ready Minutes: the amount of time after a call comes in or needs to go out where the assigned rep is not available because they are not ready (for example, getting water).\n",
    "* Incoming Wait Time - amount of time after assigned rep is available to take the call customer waits for representative to pick up a call. This is tracked in seconds.\n",
    "* During Call Wait Time - amount of time during call that customer has to wait for representative\n",
    "\n",
    "## Getting Started\n",
    "\n",
    "You have two CSVs at your disposal, `NorthCallCenter.csv` and `SouthCallCenter.csv`. Import the appropriate libraries and create two dataframes, one called `north_df` and one called `south_df`."
   ]
  },
  {
   "cell_type": "code",
   "execution_count": 1,
   "id": "49aada97",
   "metadata": {},
   "outputs": [],
   "source": [
    "# Import the appropriate libraries\n",
    "import pandas as pd\n",
    "# Create two new dataframe from your CSV\n",
    "NorthCallCenter_df = pd.read_csv('NorthCallCenter.csv')\n",
    "SouthCallCenter_df = pd.read_csv('SouthCallCenter.csv')\n"
   ]
  },
  {
   "cell_type": "markdown",
   "id": "a644531e",
   "metadata": {},
   "source": [
    "## Exploratory Data Analysis\n",
    "\n",
    "Time to do some EDA! In the process of learning more about the two datasets, make sure you answer the following questions:\n",
    "\n",
    "1. How many reps are in each branch?\n",
    "2. What is the average busy minutes, not ready minutes, incoming wait time, and during call wait time for each branch?\n",
    "3. What is the number of calls taken for each time block?"
   ]
  },
  {
   "cell_type": "code",
   "execution_count": 2,
   "id": "6bf6657d",
   "metadata": {},
   "outputs": [
    {
     "data": {
      "text/plain": [
       "9"
      ]
     },
     "execution_count": 2,
     "metadata": {},
     "output_type": "execute_result"
    }
   ],
   "source": [
    "# Put your EDA code here\n",
    "NorthCallCenter_df['Rep ID'].value_counts()\n",
    "NorthCallCenter_df['Rep ID'].value_counts().count()\n"
   ]
  },
  {
   "cell_type": "markdown",
   "id": "e7558dc1",
   "metadata": {},
   "source": [
    "There are 9 reps in NorthCallCenter dataframe"
   ]
  },
  {
   "cell_type": "code",
   "execution_count": 3,
   "id": "b76654c6",
   "metadata": {},
   "outputs": [
    {
     "data": {
      "text/plain": [
       "11"
      ]
     },
     "execution_count": 3,
     "metadata": {},
     "output_type": "execute_result"
    }
   ],
   "source": [
    "SouthCallCenter_df['Rep ID'].value_counts().count()\n"
   ]
  },
  {
   "cell_type": "markdown",
   "id": "fe3202a2",
   "metadata": {},
   "source": [
    "There are 11 reps in NorthCallCenter dataframe"
   ]
  },
  {
   "cell_type": "code",
   "execution_count": 4,
   "id": "54976dd9",
   "metadata": {},
   "outputs": [
    {
     "name": "stdout",
     "output_type": "stream",
     "text": [
      "For NorthCallCenter, Average busy minutes is 9.987755102040817 , Average not ready minutes is 1.9142857142857144 , Average incoming wait time is 1.0204081632653061,Average during call wait time is 2.9673469387755103\n"
     ]
    }
   ],
   "source": [
    "NCC_busyMinutes = NorthCallCenter_df['Busy Minutes'].sum()/len(NorthCallCenter_df)\n",
    "NCC_NotReadyMinutes = NorthCallCenter_df['Not Ready Minutes'].sum()/len(NorthCallCenter_df)\n",
    "NCC_IncomingWaitTime = NorthCallCenter_df['Incoming Wait Time'].sum()/len(NorthCallCenter_df)\n",
    "NCC_DuringCallWaitTime = NorthCallCenter_df['During Call Wait Time'].sum()/len(NorthCallCenter_df)\n",
    "print(f\"For NorthCallCenter, Average busy minutes is {NCC_busyMinutes} , Average not ready minutes is {NCC_NotReadyMinutes} , Average incoming wait time is {NCC_IncomingWaitTime},Average during call wait time is {NCC_DuringCallWaitTime}\")\n"
   ]
  },
  {
   "cell_type": "code",
   "execution_count": 5,
   "id": "138d23fc",
   "metadata": {},
   "outputs": [
    {
     "name": "stdout",
     "output_type": "stream",
     "text": [
      "For NorthCallCenter, Average busy minutes is 10.054140127388536 , Average not ready minutes is 1.910828025477707 , Average incoming wait time is 1.2038216560509554,Average during call wait time is 3.0764331210191083\n"
     ]
    }
   ],
   "source": [
    "SCC_busyMinutes = SouthCallCenter_df['Busy Minutes'].sum()/len(SouthCallCenter_df)\n",
    "SCC_NotReadyMinutes = SouthCallCenter_df['Not Ready Minutes'].sum()/len(SouthCallCenter_df)\n",
    "SCC_IncomingWaitTime = SouthCallCenter_df['Incoming Wait Time'].sum()/len(SouthCallCenter_df)\n",
    "SCC_DuringCallWaitTime = SouthCallCenter_df['During Call Wait Time'].sum()/len(SouthCallCenter_df)\n",
    "print(f\"For NorthCallCenter, Average busy minutes is {SCC_busyMinutes} , Average not ready minutes is {SCC_NotReadyMinutes} , Average incoming wait time is {SCC_IncomingWaitTime},Average during call wait time is {SCC_DuringCallWaitTime}\")\n"
   ]
  },
  {
   "cell_type": "code",
   "execution_count": 6,
   "id": "88a68b80",
   "metadata": {},
   "outputs": [
    {
     "data": {
      "text/plain": [
       "12:00 PM    45\n",
       "10:00 AM    43\n",
       "2:00 PM     35\n",
       "3:00 PM     30\n",
       "4:00 PM     28\n",
       "11:00 AM    25\n",
       "5:00 PM     17\n",
       "1:00 PM     17\n",
       "9:00 AM      5\n",
       "Name: Time Block, dtype: int64"
      ]
     },
     "execution_count": 6,
     "metadata": {},
     "output_type": "execute_result"
    }
   ],
   "source": [
    "#3. What is the number of calls taken for each time block?\n",
    "NorthCallCenter_df['Time Block'].value_counts()"
   ]
  },
  {
   "cell_type": "code",
   "execution_count": 7,
   "id": "c9f45308",
   "metadata": {},
   "outputs": [
    {
     "data": {
      "text/plain": [
       "12:00 PM    75\n",
       "10:00 AM    56\n",
       "3:00 PM     43\n",
       "11:00 AM    31\n",
       "2:00 PM     30\n",
       "5:00 PM     26\n",
       "4:00 PM     25\n",
       "1:00 PM     23\n",
       "9:00 AM      5\n",
       "Name: Time Block, dtype: int64"
      ]
     },
     "execution_count": 7,
     "metadata": {},
     "output_type": "execute_result"
    }
   ],
   "source": [
    "#3. What is the number of calls taken for each time block?\n",
    "SouthCallCenter_df['Time Block'].value_counts()"
   ]
  },
  {
   "cell_type": "markdown",
   "id": "ec92db6c",
   "metadata": {},
   "source": [
    "## Cleaning Data\n",
    "\n",
    "Now you need to clean up the datasets. When cleaning the datasets, you may find that there isn't dirty data to clean. That is okay! Some questions you need to answer about the data sets:\n",
    "\n",
    "1. Incoming wait time is null in many places. Do all of those places correspond to outgoing calls?\n",
    "2. In the North data set, there are two separate \"YES\" values for a sale. Why and how did you rectify the issue?\n",
    "3. Are there duplicates in the two data sets? If there are, how did you handle them?\n",
    "4. Is any of the data in the two data sets unnecessary? If yes, how did you handle it?"
   ]
  },
  {
   "cell_type": "code",
   "execution_count": 8,
   "id": "9d26acad",
   "metadata": {},
   "outputs": [
    {
     "name": "stdout",
     "output_type": "stream",
     "text": [
      "(163, 15)\n",
      "(163, 15)\n"
     ]
    }
   ],
   "source": [
    "#1.Incoming wait time is null in many places. Do all of those places correspond to outgoing calls?\n",
    "\n",
    "Outgoing = NorthCallCenter_df.loc[NorthCallCenter_df['Incoming or Outgoing'] == 'Outgoing'] # This creates a dataframe Outgoing\n",
    "#which has \"Incoming or Outgoing\" column as Outgoing and filters rest of the columns with the value as incoming \n",
    "print(Outgoing.shape)\n",
    "IncomingWaitTime_null_df = Outgoing[Outgoing['Incoming Wait Time'].isnull()] # This code checks the value of \"Incoming Wait Time\" column\n",
    "#in above created dataset\n",
    "print(IncomingWaitTime_null_df.shape)\n"
   ]
  },
  {
   "cell_type": "markdown",
   "id": "805dbfce",
   "metadata": {},
   "source": [
    "When we print shape we get to know Outgoing dataframe has 163 rows and the IncomingWaitTime_null_df also has 163 rows , \n",
    "hence confirming that all the 163 rows which have a value of Outgoing in \"Incoming or Outgoing\" column has a corresponding \n",
    "value of NULL in 'Incoming Wait Time'"
   ]
  },
  {
   "cell_type": "code",
   "execution_count": 9,
   "id": "5b6a42e6",
   "metadata": {},
   "outputs": [
    {
     "data": {
      "text/plain": [
       "NO        234\n",
       "YES        10\n",
       "YES         1\n",
       "Name: Sale, dtype: int64"
      ]
     },
     "execution_count": 9,
     "metadata": {},
     "output_type": "execute_result"
    }
   ],
   "source": [
    "# 2. In the North data set, there are two separate \"YES\" values for a sale. Why and how did you rectify the issue?\n",
    "NorthCallCenter_df[\"Sale\"].value_counts()"
   ]
  },
  {
   "cell_type": "code",
   "execution_count": 10,
   "id": "c56aa138",
   "metadata": {},
   "outputs": [
    {
     "data": {
      "text/plain": [
       "NO     234\n",
       "YES     11\n",
       "Name: Sale, dtype: int64"
      ]
     },
     "execution_count": 10,
     "metadata": {},
     "output_type": "execute_result"
    }
   ],
   "source": [
    "# 2. In the North data set, there are two separate \"YES\" values for a sale. Why and how did you rectify the issue?\n",
    "NorthCallCenter_df[\"Sale\"] = NorthCallCenter_df[\"Sale\"].str.strip()\n",
    "NorthCallCenter_df[\"Sale\"].value_counts()"
   ]
  },
  {
   "cell_type": "markdown",
   "id": "2099365a",
   "metadata": {},
   "source": [
    "### In the North data set, there are two separate \"YES\" values for a sale. Why and how did you rectify the issue?\n",
    "As per my Analysis , I could observe that one of the rows under SALES columns had YES appended with space and I corrected it by \n",
    "using strip() method to remove any rows with a space appended "
   ]
  },
  {
   "cell_type": "code",
   "execution_count": 11,
   "id": "666c5ffd",
   "metadata": {},
   "outputs": [
    {
     "name": "stdout",
     "output_type": "stream",
     "text": [
      "Empty DataFrame\n",
      "Columns: [Unnamed: 0, Branch, Call Purpose, Time Block, Incoming or Outgoing, Queue, Rep ID, Sale, Lost Call, Abandoned, Busy Minutes, Not Ready Minutes, Incoming Wait Time, During Call Wait Time, Calls]\n",
      "Index: []\n",
      "Empty DataFrame\n",
      "Columns: [Unnamed: 0, Branch, Call Purpose, Time Block, Incoming or Outgoing, Queue, Rep ID, Sale, Lost Call, Abandoned, Busy Minutes, Not Ready Minutes, Incoming Wait Time, During Call Wait Time, Calls]\n",
      "Index: []\n"
     ]
    }
   ],
   "source": [
    "# 3. Are there duplicates in the two data sets? If there are, how did you handle them.?\n",
    "NorthCallCenter_df\n",
    "duplicate_north = NorthCallCenter_df[NorthCallCenter_df.duplicated()]\n",
    "duplicate_south = SouthCallCenter_df[SouthCallCenter_df.duplicated()]\n",
    "print(duplicate_south)\n",
    "print(duplicate_north)\n",
    "# There are no duplicate values in both the dataframes"
   ]
  },
  {
   "cell_type": "code",
   "execution_count": 12,
   "id": "b50cfa8a",
   "metadata": {},
   "outputs": [],
   "source": [
    "# Clean your data here\n",
    "#I don't think there is any unnecessary data to delete"
   ]
  },
  {
   "cell_type": "markdown",
   "id": "4820fb7d",
   "metadata": {},
   "source": [
    "## Data Manipulation\n",
    "\n",
    "Before you begin answering any questions, combine the two datasets together to create a third dataframe called `df`. You can use this third dataframe to compare the two call centers to company-wide trends.\n",
    "\n",
    "1. Group by Rep ID and sum the resulting structure. Sort by calls to determine which rep in each branch has the highest number of calls.\n",
    "2. The average call abandonment rate is a KPI when it comes to determining call center efficiency. As you may recall, abandoned calls are calls where the customer hangs up due to long call times. What is the average call abandonment rate for each branch and the whole company? Do any of these fall out of the optimal range of 2-5%?\n",
    "3. Service level is another KPI when it comes to measuring call center efficiency. Service level is the percentage of calls answered within a specific number of seconds. In the case of your employer, their ideal time frame is 2 seconds. What is the percentage of calls answered within 2 seconds for each branch and the entire company?\n",
    "4. For each branch and the entire company, what is the average speed of answer?"
   ]
  },
  {
   "cell_type": "code",
   "execution_count": 13,
   "id": "ea8fe600",
   "metadata": {},
   "outputs": [
    {
     "name": "stdout",
     "output_type": "stream",
     "text": [
      "Rep who has highest Numbers of calls in each branch are :  Branch\n",
      "North    (North, Brent)\n",
      "South     (South, Eric)\n",
      "Name: Calls, dtype: object\n"
     ]
    }
   ],
   "source": [
    "# Manipulate data here\n",
    "North_South_df = NorthCallCenter_df.append([SouthCallCenter_df])\n",
    "\n",
    "#1. Group by Rep ID and sum the resulting structure. Sort by calls to determine which rep in each branch has the highest number of calls.\n",
    "\n",
    "North_South_df_grouped = North_South_df.groupby(['Branch','Rep ID']).sum()\n",
    "North_South_df_grouped\n",
    "repWithHighestCalls = North_South_df_grouped.groupby('Branch')['Calls'].idxmax()\n",
    "print(\"Rep who has highest Numbers of calls in each branch are : \" , repWithHighestCalls)"
   ]
  },
  {
   "cell_type": "code",
   "execution_count": 14,
   "id": "2dac153b",
   "metadata": {},
   "outputs": [
    {
     "name": "stdout",
     "output_type": "stream",
     "text": [
      "Average call abandonment rate for North branch is : 2.86%\n",
      "Average call abandonment rate for South branch is : 1.27%\n",
      "\n",
      "Average call abandonment rate for the whole company is :1.97%\n"
     ]
    }
   ],
   "source": [
    "# 2. The average call abandonment rate is a KPI when it comes to determining call center efficiency. As you may recall, abandoned calls are calls where the customer hangs up due to long call times. What is the average call abandonment rate for each branch and the whole company? Do any of these fall out of the optimal range of 2-5%?\n",
    "\n",
    "average_abandonment_each_branch = North_South_df.groupby('Branch')['Abandoned'].mean()\n",
    "print (\"Average call abandonment rate for North branch is : {:.2%}\".format(average_abandonment_each_branch.North))\n",
    "print (\"Average call abandonment rate for South branch is : {:.2%}\".format(average_abandonment_each_branch.South))\n",
    "\n",
    "average_abandonment_for_company = North_South_df['Abandoned'].mean()\n",
    "print (\"\\nAverage call abandonment rate for the whole company is :\" \"{:.2%}\".format(average_abandonment_for_company))\n",
    "\n"
   ]
  },
  {
   "cell_type": "markdown",
   "id": "d0d50509",
   "metadata": {},
   "source": [
    "### Average call abandonment KPI Analysis for North/South and entire company \n",
    "Abandoned rate is within the optimal range of 2 to 5 % for North branches i.e 2.85 percent, and for South branch Abandoned rate is\n",
    "1.2 percent which means South branch has a much higher efficency with such a low abandonment rate"
   ]
  },
  {
   "cell_type": "code",
   "execution_count": 15,
   "id": "f0042cba",
   "metadata": {},
   "outputs": [
    {
     "name": "stdout",
     "output_type": "stream",
     "text": [
      "Service Level for North is : 40.24%\n",
      "Service Level for South is : 38.10%\n",
      "Service Level for Entire company is : 38.94%\n"
     ]
    }
   ],
   "source": [
    "# 3. Service level is another KPI when it comes to measuring call center efficiency. Service level is the percentage of calls answered within a specific number of seconds. In the case of your employer, their ideal time frame is 2 seconds. What is the percentage of calls answered within 2 seconds for each branch and the entire company?\n",
    "\n",
    "NorthSouthdf_service_level = North_South_df.loc[North_South_df['Incoming Wait Time'] <= 2]\n",
    "incoming_north = NorthCallCenter_df.loc[NorthCallCenter_df['Incoming or Outgoing'] == 'Incoming'] \n",
    "incoming_south = SouthCallCenter_df.loc[SouthCallCenter_df['Incoming or Outgoing'] == 'Incoming'] \n",
    "\n",
    "\n",
    "print (\"Service Level for North is : {:.2%}\".format(NorthSouthdf_service_level.groupby('Branch')['Incoming Wait Time'].count().North/len(incoming_north)))\n",
    "print (\"Service Level for South is : {:.2%}\".format(NorthSouthdf_service_level.groupby('Branch')['Incoming Wait Time'].count().South/len(incoming_south)))\n",
    "\n",
    "\n",
    "# Entire Company\n",
    "incoming_calls_entire_company = North_South_df.loc[North_South_df['Incoming or Outgoing'] == 'Incoming'] \n",
    "print (\"Service Level for Entire company is : {:.2%}\".format(NorthSouthdf_service_level['Incoming Wait Time'].count()/len(incoming_calls_entire_company)))\n"
   ]
  },
  {
   "cell_type": "markdown",
   "id": "b5459e37",
   "metadata": {},
   "source": [
    "### Service Level KPI Analysis for North/South and entire company \n",
    "As per above 40 percent of calls are answered within 2 secs (I have included 2 secs also an ideal time frame) in North          branch and  38 percent of calls are answered in 2 secs in South branch. For the entire branch the approximately 38.9 percent of the calls are answered in 2 secs in South branch"
   ]
  },
  {
   "cell_type": "code",
   "execution_count": 16,
   "id": "6ebc8c6c",
   "metadata": {},
   "outputs": [
    {
     "name": "stdout",
     "output_type": "stream",
     "text": [
      "average speed of answer for North Branch 3.048780487804878\n",
      "average speed of answer for South Branch 3.0\n",
      "average speed of answer for entire Branch 3.019230769230769\n"
     ]
    }
   ],
   "source": [
    "# 4 For each branch and the entire company, what is the average speed of answer?\n",
    "print (\"average speed of answer for North Branch\" , North_South_df.groupby('Branch')['Incoming Wait Time'].sum().North/len(incoming_north))\n",
    "print (\"average speed of answer for South Branch\" ,North_South_df.groupby('Branch')['Incoming Wait Time'].sum().South/len(incoming_south))\n",
    "#Hence Average speed of answer is almost similar for both the branch i.e about 3 seconds \n",
    "print (\"average speed of answer for entire Branch\" ,North_South_df['Incoming Wait Time'].sum()/len(incoming_calls_entire_company))"
   ]
  },
  {
   "cell_type": "markdown",
   "id": "8c0051cc",
   "metadata": {},
   "source": [
    "### Average speed of answer KPI Analysis for North/South \n",
    "Average speed of answer is almost similar for both the branch i.e about 3 seconds"
   ]
  },
  {
   "cell_type": "markdown",
   "id": "7719da42",
   "metadata": {},
   "source": [
    "### Data Manipulation Results\n",
    "\n",
    "1. Group by Rep ID and sum the resulting structure. Sort by calls to determine which rep in each branch has the highest number of calls.\n",
    "2. The average call abandonment rate is a KPI when it comes to determining call center efficiency. As you may recall, abandoned calls are calls where the customer hangs up due to long call times. What is the average call abandonment rate for each branch and the whole company? Do any of these fall out of the optimal range of 2-5%?\n",
    "3. Service level is another KPI when it comes to measuring call center efficiency. Service level is the percentage of calls answered within a specific number of seconds. In the case of your employer, their ideal time frame is 2 seconds. What is the percentage of calls answered within 2 seconds for each company and the entire company?\n",
    "4. For each branch and the entire company, what is the average speed of answer?"
   ]
  },
  {
   "cell_type": "markdown",
   "id": "d816d6a2",
   "metadata": {},
   "source": [
    "## Visualization\n",
    "\n",
    "Create a visualization for each of the following questions. Some of the code to handle aggregating and storing data may be written for you. For each visualization, you choose the chart style that you feel suits the situation best. Make note of the chart style you chose and why.\n",
    "\n",
    "1. What is the average abandonment rate per queue?\n",
    "2. What is the service level and average speed of answer per each rep?\n",
    "3. For each type of call purpose, how many calls are outgoing vs. incoming?"
   ]
  },
  {
   "cell_type": "code",
   "execution_count": 17,
   "id": "5ce6b0f1",
   "metadata": {
    "scrolled": false
   },
   "outputs": [
    {
     "data": {
      "image/png": "[encoded data removed]",
      "text/plain": [
       "<Figure size 432x288 with 1 Axes>"
      ]
     },
     "metadata": {
      "needs_background": "light"
     },
     "output_type": "display_data"
    },
    {
     "name": "stdout",
     "output_type": "stream",
     "text": [
      "Index(['A', 'B'], dtype='object', name='Queue')\n",
      "Index(['C', 'D'], dtype='object', name='Queue')\n"
     ]
    }
   ],
   "source": [
    "# Create visualization 1 here\n",
    "# The dictionary abandonment_rates has the data you need.\n",
    "import seaborn as sns\n",
    "import matplotlib.pyplot as plt\n",
    "abandonment_rates = {}\n",
    "queues = [\"A\", \"B\", \"C\", \"D\"]\n",
    "\n",
    "#Combined data set\n",
    "queue_dict = North_South_df.groupby(\"Queue\").agg(\"sum\")\n",
    "for i in range(4):\n",
    "    abandonment_rates[queues[i]] = queue_dict[\"Abandoned\"][i] / queue_dict[\"Calls\"][i] \n",
    "    plt.bar(queues[i], abandonment_rates[queues[i]])\n",
    "plt.title(\"Abandonment rates per Queue\")\n",
    "plt.xlabel(\"Queue\")\n",
    "plt.ylabel(\"Abandonment rate\")\n",
    "plt.show()\n",
    "\n",
    "#North data set\n",
    "queue_dict_north = NorthCallCenter_df.groupby(\"Queue\").agg(\"sum\")\n",
    "queue_dict_south = SouthCallCenter_df.groupby(\"Queue\").agg(\"sum\")\n",
    "\n",
    "print(queue_dict_north.index) # This shows North call centre has only 2 queues A and B\n",
    "print(queue_dict_south.index) # This shows South call centre has only 2 queues C and D1\n"
   ]
  },
  {
   "cell_type": "markdown",
   "id": "0eb6dcd6",
   "metadata": {},
   "source": [
    "###  Average abandonment rate per queue\n",
    "As per the above graph , the abandonment_rates is highest for Queue A and lowest for Queue C , i.e Queue C is\n",
    "performing better than rest of the qeues"
   ]
  },
  {
   "cell_type": "code",
   "execution_count": 18,
   "id": "824943f3",
   "metadata": {
    "scrolled": true
   },
   "outputs": [
    {
     "data": {
      "text/plain": [
       "[]"
      ]
     },
     "execution_count": 18,
     "metadata": {},
     "output_type": "execute_result"
    },
    {
     "data": {
      "image/png": "[encoded data removed]",
      "text/plain": [
       "<Figure size 864x288 with 2 Axes>"
      ]
     },
     "metadata": {
      "needs_background": "light"
     },
     "output_type": "display_data"
    }
   ],
   "source": [
    "import matplotlib.pyplot as plt\n",
    "import pandas as pd\n",
    "import numpy as np\n",
    "import seaborn as sb\n",
    "import matplotlib.pyplot as plt\n",
    "from matplotlib import style\n",
    "# Create visualization 2 here (For North Call centre)\n",
    "# north_plt contains the data you need for the average speed of answer of each rep\n",
    "\n",
    "north_plt = NorthCallCenter_df.groupby(\"Rep ID\")[\"Incoming Wait Time\"].mean().to_frame().reset_index()\n",
    "\n",
    "# Finding each Rep's Personal Service Level Percentage.  Basically, Calls within 2 secs / total calls\n",
    "\n",
    "# Table 1: Total Incoming calls less than 2 seconds grouped by Rep\n",
    "quick_calls = NorthCallCenter_df[NorthCallCenter_df[\"Incoming Wait Time\"] <= 2.0]\n",
    "quick_reps = quick_calls[[\"Rep ID\", \"Calls\"]]\n",
    "quick_stats = quick_reps.groupby([\"Rep ID\"]).sum()  # Final Table\n",
    "\n",
    "\n",
    "# Table 2: Total Incoming Calls Only grouped by Rep\n",
    "total_calls_in = NorthCallCenter_df[NorthCallCenter_df[\"Incoming or Outgoing\"] == \"Incoming\"]\n",
    "rep_calls = total_calls_in[[\"Rep ID\", \"Calls\"]]     \n",
    "total_stats = rep_calls.groupby([\"Rep ID\"]).sum() # Final Table  \n",
    "\n",
    "#  Table 3: Service Level Percentage created via merge\n",
    "service_level = pd.merge(quick_stats, total_stats, on=\"Rep ID\") # [Aparna] so merge automatically renames the common column name as _x and _ y i.e Calls is automatically renamed to Calls_x and Calls_y \n",
    "\n",
    "# Create Percentage Column in Table 3\n",
    "service_level[\"Service Level %\"] = service_level[\"Calls_x\"]/service_level[\"Calls_y\"] * 100\n",
    "\n",
    "fig,fig1 = plt.subplots(figsize=(12,4))\n",
    "\n",
    "fig1 = sns.barplot(x = service_level.index, y = service_level[\"Service Level %\"], color='green',label = \"Service level per Rep\")\n",
    "\n",
    "fig2 = fig1.twinx()\n",
    "fig2.set_ylim([0,15])\n",
    "fig1.set_ylim([0,80])\n",
    "fig2 = sns.barplot(x = north_plt[\"Rep ID\"], y = north_plt[\"Incoming Wait Time\"] , color='red', label = \"Average speed of answer per each rep\")\n",
    "\n",
    "fig1.set_ylabel('Service Level', color = 'g')\n",
    "fig2.set_ylabel('Average speed of answer per each rep' , color = 'r' )\n",
    "fig1.set_xlabel('Rep ID')\n",
    "fig.legend(loc='upper right')\n",
    "fig1.plot()\n"
   ]
  },
  {
   "cell_type": "markdown",
   "id": "0dbb225e",
   "metadata": {},
   "source": [
    "###  Service Level Analsys\n",
    "\n",
    "Above graph shows that Brent has a highest service level percentage of 75% which means of the total calls which brent \n",
    "answers to , he replied to 75% of those calls in less than or equal to 2 seconds which means Brent is efficient in picking\n",
    "calls which signifies 75% of his customer doesn't have to wait for more than 2 seconds which helps in good customer service.\n",
    "Joes is least efficient in replying to the calls , he answers to only 20% of his customers in less than 2 seconds which\n",
    "signifies he makes 80% of the customers to wait for longer(more than 2 seconds) in call waiting\n",
    "\n",
    "###  Average Speed of Answer Analsys\n",
    "This plot shows Brent is efficient as his Incoming wait time is 2 which is lesser that any other Rep, hence he is answering \n",
    "to most of his customers in 2 seconds\n"
   ]
  },
  {
   "cell_type": "code",
   "execution_count": 19,
   "id": "f4ed0440",
   "metadata": {},
   "outputs": [
    {
     "data": {
      "text/plain": [
       "[]"
      ]
     },
     "execution_count": 19,
     "metadata": {},
     "output_type": "execute_result"
    },
    {
     "data": {
      "image/png": "[encoded data removed]",
      "text/plain": [
       "<Figure size 864x288 with 2 Axes>"
      ]
     },
     "metadata": {
      "needs_background": "light"
     },
     "output_type": "display_data"
    }
   ],
   "source": [
    "# Create visualization 2 here (For South Call centre)\n",
    "# south_plt contains the data you need for the average speed of answer of each rep\n",
    "\n",
    "south_plt = SouthCallCenter_df.groupby(\"Rep ID\")[\"Incoming Wait Time\"].mean().to_frame().reset_index()\n",
    "\n",
    "# Finding each Rep's Personal Service Level Percentage.  Basically, Calls within 2 secs / total calls\n",
    "\n",
    "# Table 1: Total Incoming calls less than 2 seconds grouped by Rep\n",
    "quick_calls = SouthCallCenter_df[SouthCallCenter_df[\"Incoming Wait Time\"] <= 2.0]\n",
    "quick_reps = quick_calls[[\"Rep ID\", \"Calls\"]]\n",
    "quick_stats = quick_reps.groupby([\"Rep ID\"]).sum()  # Final Table\n",
    "\n",
    "\n",
    "# Table 2: Total Incoming Calls Only grouped by Rep\n",
    "total_calls_in = SouthCallCenter_df[SouthCallCenter_df[\"Incoming or Outgoing\"] == \"Incoming\"]\n",
    "rep_calls = total_calls_in[[\"Rep ID\", \"Calls\"]]     \n",
    "total_stats = rep_calls.groupby([\"Rep ID\"]).sum() # Final Table  \n",
    "\n",
    "#  Table 3: Service Level Percentage created via merge\n",
    "service_level = pd.merge(quick_stats, total_stats, on=\"Rep ID\") # [Aparna] so internally merge automatically \n",
    "#renames the common column name as _x and _ y i.e Calls is automatically renamed to Calls_x and Calls_y \n",
    "\n",
    "# Create Percentage Column in Table 3\n",
    "service_level[\"Service Level %\"] = service_level[\"Calls_x\"]/service_level[\"Calls_y\"] * 100\n",
    "\n",
    "fig,fig1 = plt.subplots(figsize=(12,4))\n",
    "\n",
    "fig1 = sns.barplot(x = service_level.index, y = service_level[\"Service Level %\"], color='green',label = \"Service level per Rep\")\n",
    "\n",
    "fig2 = fig1.twinx()\n",
    "fig2.set_ylim([0,15])\n",
    "fig1.set_ylim([0,80])\n",
    "fig2 = sns.barplot(x = south_plt[\"Rep ID\"], y = south_plt[\"Incoming Wait Time\"] , color='red', label = \"Average speed of answer per each rep\")\n",
    "\n",
    "fig1.set_ylabel('Service Level', color = 'g')\n",
    "fig2.set_ylabel('Average speed of answer per each rep' , color = 'r' )\n",
    "fig1.set_xlabel('Rep ID')\n",
    "fig.legend(loc='upper right')\n",
    "fig1.plot()\n",
    "\n"
   ]
  },
  {
   "cell_type": "markdown",
   "id": "e90c89c6",
   "metadata": {},
   "source": [
    "###  Service Level Analsys\n",
    "\n",
    "Below shows that Brent has a highest service level percentage of 75% which means of the total calls which brent \n",
    "answere to , he replied to 75% of those calls in less than or equal to 2 seconds which means Brent is efficient in picking\n",
    "calls which signifies 75% of his customer doesn't have to wait for more than 2 seconds which helps in good customer service.\n",
    "Joes is least efficient in replying to the calls , he answers to only 20% of his customers in less than 2 seconds which\n",
    "signifies he makes 80% of the customers to wait for longer(more than 2 seconds) in call waiting\n",
    "\n",
    "###  Average Speed of Answer Analsys\n",
    "This plot shows Brent is efficient as his Incoming wait time is 2 which is lesser that any other Rep, hence he is answering \n",
    "to most of his customers in 2 seconds\n",
    "\n",
    "\n"
   ]
  },
  {
   "cell_type": "code",
   "execution_count": 20,
   "id": "daedcd90",
   "metadata": {},
   "outputs": [
    {
     "data": {
      "text/plain": [
       "Text(0, 0.5, 'Count')"
      ]
     },
     "execution_count": 20,
     "metadata": {},
     "output_type": "execute_result"
    },
    {
     "data": {
      "image/png": "[encoded data removed]",
      "text/plain": [
       "<Figure size 432x288 with 1 Axes>"
      ]
     },
     "metadata": {
      "needs_background": "light"
     },
     "output_type": "display_data"
    }
   ],
   "source": [
    "# Create visualization 3 here\n",
    "# The three dictionaries, complaints, sales_support, and product_support, have the information you need\n",
    "purpose_group = North_South_df.groupby(\"Call Purpose\")\n",
    "purpose_counts = purpose_group[\"Incoming or Outgoing\"].value_counts()\n",
    "\n",
    "\n",
    "colors = ('b', 'g')\n",
    "purpose_counts.plot(kind='bar', color = colors)\n",
    "plt.title(\"outgoing vs.incoming for each call purpose\")\n",
    "plt.xlabel(\"Call Purpose\")\n",
    "plt.ylabel(\"Count\")\n",
    "\n"
   ]
  },
  {
   "cell_type": "markdown",
   "id": "09d471fc",
   "metadata": {},
   "source": [
    "### Visualization Results\n",
    "\n",
    "For each chart you created, explain why you chose the chart style you chose.\n",
    "\n",
    "I have used bar charts in all the above 3 visualisations. The reason being , line chart or scatter plot would have been useful when we had to find trends in data however in all of the 3 charts we didn't need to find trends. Hence bar chart is appropriate represenation here."
   ]
  },
  {
   "cell_type": "markdown",
   "id": "60770519",
   "metadata": {},
   "source": [
    "## Summarize Your Work\n",
    "\n",
    "With what you know now about the two call centers and the entire company, answer the following questions. Note that while this is subjective, you should include relevant data to back up your opinion.\n",
    "\n",
    "1. Using KPIs such as average abandonment rate, service level and average speed of answer, in your opinion, which one of the two branches is operating more efficiently? Why?\n",
    "2. Based on the number of reps in each branch and how quickly the reps are working, in your opinion, which branch would benefit from the extra help?\n",
    "3. Now that you have explored the datasets, is there any data or information that you wish you had in this analysis?"
   ]
  },
  {
   "cell_type": "markdown",
   "id": "5a8fbc41",
   "metadata": {},
   "source": [
    "1 As per the stats and graphs\n",
    "    average abandonment rate - South call center is performing more efficiently as it has lesser average abandonment rate\n",
    "    service level - There is not a very huge difference between North and Soutch data set , average service level is approx\n",
    "                    40% for North and 38% for South\n",
    "    average speed of answer - There is not a very huge difference between North and Soutch data set , average speed of\n",
    "                              answer is approx 3 seconds for both North and South\n",
    "        \n",
    "2. As per my opinion , North branch would be benifited from an extra help as more resources would mean less abandonment rate\n",
    "3. Most of the necessary information is available , however I feel if the data set had information about the call being a New\n",
    "   call or follow-up call. This will help us understand if there are multiple follow-up calls i.e customer is calling muliple      times for the same issue which would not be a good sign and we can work on improvements or trainings for reps for avoiding \n",
    "   multiple calls from a single customers."
   ]
  },
  {
   "cell_type": "markdown",
   "id": "76619a15",
   "metadata": {},
   "source": [
    "## Submit Your Work\n",
    "\n",
    "After you have completed your work on the assignment, push your work to your Github repo. Navigate to the repo, copy the link to your assignment and paste the URL in the Canvas assignment's submission box. "
   ]
  },
  {
   "cell_type": "markdown",
   "id": "cc90141d",
   "metadata": {},
   "source": [
    "## Bonus Mission\n",
    "\n",
    "Create a visualization that answers this question:\n",
    "\n",
    "1. For each call purpose, how many calls (incoming and outgoing) take place in each time block?"
   ]
  },
  {
   "cell_type": "code",
   "execution_count": 21,
   "id": "e9d48ce7",
   "metadata": {},
   "outputs": [
    {
     "data": {
      "text/plain": [
       "Text(0, 0.5, 'Count')"
      ]
     },
     "execution_count": 21,
     "metadata": {},
     "output_type": "execute_result"
    },
    {
     "data": {
      "image/png": "[encoded data removed]",
      "text/plain": [
       "<Figure size 432x288 with 1 Axes>"
      ]
     },
     "metadata": {
      "needs_background": "light"
     },
     "output_type": "display_data"
    }
   ],
   "source": [
    "# Create your visualization here!\n",
    "call_times = North_South_df[[\"Time Block\", \"Call Purpose\", \"Incoming or Outgoing\", \"Calls\"]]\n",
    "\n",
    "# Use groupby to plot based on time blocks:\n",
    "count_calls_per_timeblock = call_times.groupby([\"Time Block\"])[\"Incoming or Outgoing\"].value_counts()\n",
    "count_calls_per_timeblock.plot.bar(legend=True)\n",
    "plt.title(\"Count of calls\")\n",
    "plt.ylabel(\"Count\")\n",
    "# Use groupby and get_group to select which call purpose to plot:\n",
    "\n"
   ]
  },
  {
   "cell_type": "code",
   "execution_count": 22,
   "id": "248847a6",
   "metadata": {},
   "outputs": [
    {
     "data": {
      "text/plain": [
       "pandas.core.series.Series"
      ]
     },
     "execution_count": 22,
     "metadata": {},
     "output_type": "execute_result"
    }
   ],
   "source": [
    "type(count_calls_per_timeblock)"
   ]
  },
  {
   "cell_type": "markdown",
   "id": "c3624edd",
   "metadata": {},
   "source": [
    "## All the code below and onwards is my practice code , please ignore it"
   ]
  },
  {
   "cell_type": "code",
   "execution_count": 23,
   "id": "8c363e90",
   "metadata": {},
   "outputs": [
    {
     "data": {
      "text/plain": [
       "'\\n# Create visualization 3 here\\n# The three dictionaries, complaints, sales_support, and product_support, have the information you need\\npurpose_group = North_South_df.groupby(\"Call Purpose\")\\npurpose_counts = purpose_group[\"Incoming or Outgoing\"].value_counts()\\ncomplaints = purpose_counts[\"Complaint\"].to_dict()\\nsales_support = purpose_counts[\"Sales Support\"].to_dict()\\nproduct_support = purpose_counts[\"Product Support\"].to_dict()\\nnames = list(complaints.keys())\\nvalues = list(complaints.values())\\nplt.bar(range(len(complaints)), values, tick_label=names)\\n#plt.title(\"Complaints\")\\n#plt.show()\\n\\nnames = list(sales_support.keys())\\nvalues = list(sales_support.values())\\nplt.bar(range(len(sales_support)), values, tick_label=names)\\n#plt.title(\"Sales Support\")\\n#plt.show()\\n\\nnames = list(product_support.keys())\\nvalues = list(product_support.values())\\nplt.bar(range(len(product_support)), values, tick_label=names)\\n#plt.title(\"Product Support\")\\n#plt.show()\\n'"
      ]
     },
     "execution_count": 23,
     "metadata": {},
     "output_type": "execute_result"
    }
   ],
   "source": [
    "'''\n",
    "# Create visualization 3 here\n",
    "# The three dictionaries, complaints, sales_support, and product_support, have the information you need\n",
    "purpose_group = North_South_df.groupby(\"Call Purpose\")\n",
    "purpose_counts = purpose_group[\"Incoming or Outgoing\"].value_counts()\n",
    "complaints = purpose_counts[\"Complaint\"].to_dict()\n",
    "sales_support = purpose_counts[\"Sales Support\"].to_dict()\n",
    "product_support = purpose_counts[\"Product Support\"].to_dict()\n",
    "names = list(complaints.keys())\n",
    "values = list(complaints.values())\n",
    "plt.bar(range(len(complaints)), values, tick_label=names)\n",
    "#plt.title(\"Complaints\")\n",
    "#plt.show()\n",
    "\n",
    "names = list(sales_support.keys())\n",
    "values = list(sales_support.values())\n",
    "plt.bar(range(len(sales_support)), values, tick_label=names)\n",
    "#plt.title(\"Sales Support\")\n",
    "#plt.show()\n",
    "\n",
    "names = list(product_support.keys())\n",
    "values = list(product_support.values())\n",
    "plt.bar(range(len(product_support)), values, tick_label=names)\n",
    "#plt.title(\"Product Support\")\n",
    "#plt.show()\n",
    "'''\n",
    "\n"
   ]
  },
  {
   "cell_type": "code",
   "execution_count": 24,
   "id": "89050086",
   "metadata": {},
   "outputs": [
    {
     "data": {
      "image/png": "[encoded data removed]",
      "text/plain": [
       "<Figure size 432x288 with 1 Axes>"
      ]
     },
     "metadata": {
      "needs_background": "light"
     },
     "output_type": "display_data"
    },
    {
     "data": {
      "image/png": "[encoded data removed]",
      "text/plain": [
       "<Figure size 432x288 with 1 Axes>"
      ]
     },
     "metadata": {
      "needs_background": "light"
     },
     "output_type": "display_data"
    }
   ],
   "source": [
    "# Create visualization 2 here (For South Call centre)\n",
    "# south_plt contains the data you need for the average speed of answer of each rep\n",
    "\n",
    "south_plt = SouthCallCenter_df.groupby(\"Rep ID\")[\"Incoming Wait Time\"].mean().to_frame().reset_index()\n",
    "\n",
    "# Finding each Rep's Personal Service Level Percentage.  Basically, Calls within 2 secs / total calls\n",
    "\n",
    "# Table 1: Total Incoming calls less than 2 seconds grouped by Rep\n",
    "quick_calls = SouthCallCenter_df[SouthCallCenter_df[\"Incoming Wait Time\"] <= 2.0]\n",
    "quick_reps = quick_calls[[\"Rep ID\", \"Calls\"]]\n",
    "quick_stats = quick_reps.groupby([\"Rep ID\"]).sum()  # Final Table\n",
    "\n",
    "\n",
    "# Table 2: Total Incoming Calls Only grouped by Rep\n",
    "total_calls_in = SouthCallCenter_df[SouthCallCenter_df[\"Incoming or Outgoing\"] == \"Incoming\"]\n",
    "rep_calls = total_calls_in[[\"Rep ID\", \"Calls\"]]     \n",
    "total_stats = rep_calls.groupby([\"Rep ID\"]).sum() # Final Table  \n",
    "\n",
    "#  Table 3: Service Level Percentage created via merge\n",
    "service_level = pd.merge(quick_stats, total_stats, on=\"Rep ID\") # [Aparna] so internally merge automatically \n",
    "#renames the common column name as _x and _ y i.e Calls is automatically renamed to Calls_x and Calls_y \n",
    "\n",
    "# Create Percentage Column in Table 3\n",
    "service_level[\"Service Level %\"] = service_level[\"Calls_x\"]/service_level[\"Calls_y\"] * 100\n",
    "\n",
    "sns.barplot(x = service_level.index, y = service_level[\"Service Level %\"])\n",
    "plt.title(\"Service level per Rep - South Call Centre\")\n",
    "plt.show()\n",
    "#[Aparna] - Below shows that Brent has a highest service level percentage of 75% which means of the total calls which brent \n",
    "# answere to , he replied to 75% of those calls in less than or equal to 2 seconds which means Brent is efficient in picking\n",
    "# calls which signifies 75% of his customer doesn't have to wait for more than 2 seconds which helps in good customer service.\n",
    "# Joes is least efficient in replying to the calls , he answers to only 20% of his customers in less than 2 seconds which\n",
    "# signifies he makes 80% of the customers to wait for longer(more than 2 seconds) in call waiting\n",
    "\n",
    "sns.barplot(x = south_plt[\"Rep ID\"], y = south_plt[\"Incoming Wait Time\"])\n",
    "plt.title(\"Average speed of answer per each rep - South Call centre\")\n",
    "plt.show()\n",
    "#This plot shows Brent is efficient as his Incoming wait time is 2 which is lesser that any other Rep, hence he is answering \n",
    "#to most of his customers in 2 seconds\n"
   ]
  },
  {
   "cell_type": "code",
   "execution_count": 25,
   "id": "73951de4",
   "metadata": {},
   "outputs": [
    {
     "data": {
      "text/plain": [
       "[]"
      ]
     },
     "execution_count": 25,
     "metadata": {},
     "output_type": "execute_result"
    },
    {
     "data": {
      "image/png": "[encoded data removed]",
      "text/plain": [
       "<Figure size 864x288 with 2 Axes>"
      ]
     },
     "metadata": {
      "needs_background": "light"
     },
     "output_type": "display_data"
    }
   ],
   "source": [
    "import matplotlib.pyplot as plt\n",
    "import pandas as pd\n",
    "import numpy as np\n",
    "import seaborn as sb\n",
    "import matplotlib.pyplot as plt\n",
    "from matplotlib import style\n",
    "# Create visualization 2 here (For North Call centre)\n",
    "# north_plt contains the data you need for the average speed of answer of each rep\n",
    "\n",
    "north_plt = NorthCallCenter_df.groupby(\"Rep ID\")[\"Incoming Wait Time\"].mean().to_frame().reset_index()\n",
    "\n",
    "# Finding each Rep's Personal Service Level Percentage.  Basically, Calls within 2 secs / total calls\n",
    "\n",
    "# Table 1: Total Incoming calls less than 2 seconds grouped by Rep\n",
    "quick_calls = NorthCallCenter_df[NorthCallCenter_df[\"Incoming Wait Time\"] <= 2.0]\n",
    "quick_reps = quick_calls[[\"Rep ID\", \"Calls\"]]\n",
    "quick_stats = quick_reps.groupby([\"Rep ID\"]).sum()  # Final Table\n",
    "\n",
    "\n",
    "# Table 2: Total Incoming Calls Only grouped by Rep\n",
    "total_calls_in = NorthCallCenter_df[NorthCallCenter_df[\"Incoming or Outgoing\"] == \"Incoming\"]\n",
    "rep_calls = total_calls_in[[\"Rep ID\", \"Calls\"]]     \n",
    "total_stats = rep_calls.groupby([\"Rep ID\"]).sum() # Final Table  \n",
    "\n",
    "#  Table 3: Service Level Percentage created via merge\n",
    "service_level = pd.merge(quick_stats, total_stats, on=\"Rep ID\") # [Aparna] so internally merge automatically \n",
    "#renames the common column name as _x and _ y i.e Calls is automatically renamed to Calls_x and Calls_y \n",
    "\n",
    "# Create Percentage Column in Table 3\n",
    "service_level[\"Service Level %\"] = service_level[\"Calls_x\"]/service_level[\"Calls_y\"] * 100\n",
    "\n",
    "fig,fig1 = plt.subplots(figsize=(12,4))\n",
    "\n",
    "fig1 = sns.barplot(x = service_level.index, y = service_level[\"Service Level %\"], color='green',label = \"Service level per Rep\")\n",
    "#fig2 = sns.barplot(x = north_plt[\"Rep ID\"], y = north_plt[\"Incoming Wait Time\"] , color='red', label = \"Average speed of answer per each rep\")\n",
    "\n",
    "fig2 = fig1.twinx()\n",
    "fig2.set_ylim([0,15])\n",
    "fig1.set_ylim([0,80])\n",
    "fig2 = sns.barplot(x = north_plt[\"Rep ID\"], y = north_plt[\"Incoming Wait Time\"] , color='red', label = \"Average speed of answer per each rep\")\n",
    "\n",
    "fig1.set_ylabel('Service Level', color = 'g')\n",
    "fig2.set_ylabel('Average speed of answer per each rep' , color = 'r' )\n",
    "fig1.set_xlabel('Rep ID')\n",
    "fig.legend(loc='upper right')\n",
    "fig1.plot()\n"
   ]
  },
  {
   "cell_type": "code",
   "execution_count": null,
   "id": "f763b683",
   "metadata": {},
   "outputs": [],
   "source": []
  }
 ],
 "metadata": {
  "kernelspec": {
   "display_name": "Python 3",
   "language": "python",
   "name": "python3"
  },
  "language_info": {
   "codemirror_mode": {
    "name": "ipython",
    "version": 3
   },
   "file_extension": ".py",
   "mimetype": "text/x-python",
   "name": "python",
   "nbconvert_exporter": "python",
   "pygments_lexer": "ipython3",
   "version": "3.8.8"
  }
 },
 "nbformat": 4,
 "nbformat_minor": 5
}
